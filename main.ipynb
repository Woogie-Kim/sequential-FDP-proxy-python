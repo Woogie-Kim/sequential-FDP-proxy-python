{
 "cells": [
  {
   "cell_type": "markdown",
   "source": [
    "## Sequential FDP with proxy models"
   ],
   "metadata": {
    "collapsed": false
   }
  },
  {
   "cell_type": "markdown",
   "source": [
    "#### Load modules"
   ],
   "metadata": {
    "collapsed": false
   }
  },
  {
   "cell_type": "code",
   "execution_count": 1,
   "metadata": {
    "collapsed": true
   },
   "outputs": [],
   "source": [
    "%load_ext autoreload\n",
    "%autoreload 2\n",
    "\n",
    "import os.path\n",
    "import pickle\n",
    "\n",
    "from sampler import DataSampling\n",
    "from proxymodel_test import ProxyModel\n",
    "from proxymodel_silent import SilentProxyModel\n",
    "from optimization import GlobalOpt\n",
    "from utils import load_matfile, get_regress\n",
    "import argparse\n",
    "import torch"
   ]
  },
  {
   "cell_type": "markdown",
   "source": [
    "#### Set parameters"
   ],
   "metadata": {
    "collapsed": false
   }
  },
  {
   "cell_type": "code",
   "source": [
    "parser = argparse.ArgumentParser()\n",
    "\n",
    "args, unknown = parser.parse_known_args()\n",
    "\n",
    "args.filepath = 'data'\n",
    "args.simulation_directory = 'simulation'\n",
    "args.save_directory = 'variables'\n",
    "args.ecl_filename = '2D_JY_Eclrun'\n",
    "args.frs_filename = '2D_JY_Frsrun'\n",
    "args.perm_filename = '2D_PERMX'\n",
    "args.position_filename = '2D_POSITION'\n",
    "args.constraint_filename = '2D_CONSTRAINT'\n",
    "\n",
    "args.independent_area = 40  # acre\n",
    "args.num_of_x = 60\n",
    "args.num_of_y = 60\n",
    "args.num_of_z = 1\n",
    "args.num_of_max_well = 14\n",
    "args.num_of_rigs = 3\n",
    "args.num_of_particles = 40\n",
    "args.length_of_x = 120\n",
    "args.length_of_y = 120\n",
    "args.length_of_z = 120\n",
    "args.num_of_ensemble = 10\n",
    "\n",
    "args.discount_rate = 0.1\n",
    "args.observed_term = 30\n",
    "args.discount_term = 365\n",
    "args.oil_price = 60\n",
    "args.injection_cost = -5\n",
    "args.disposal_cost = -3\n",
    "args.drilling_cost = 0\n",
    "\n",
    "args.production_time = 7200\n",
    "args.tstep = 30\n",
    "args.dstep = 90  # drilling span\n",
    "args.streamline_time = 30\n",
    "args.max_tof = 10000\n",
    "args.max_pressure = 3500\n",
    "args.res_oilsat = 0.2\n",
    "\n",
    "args.max_process = 16\n",
    "args.num_of_train_sample = 500\n",
    "args.train_ratio = 0.7\n",
    "args.validate_ratio = 0.15\n",
    "args.train_model_saved_dir_super = './model'\n",
    "args.train_model_saved_dir = './model/1'\n",
    "args.train_model_figure_saved_dir = './figure'\n",
    "args.span_of_retrain = 20\n",
    "\n",
    "args.ratio_of_infeasible = 0.3\n",
    "args.well_type = {'P': 1, 'No': 0, 'I': -1}\n",
    "args.type_fix = False\n",
    "args.drilling_time_fix = True\n",
    "args.location_fix = True\n",
    "args.control_fix = True\n",
    "\n",
    "args.well_placement_optimization = True\n",
    "args.well_operation_optimization = True\n",
    "args.simultaneous_optimization = False\n",
    "args.well_location_index = None\n",
    "args.well_type_real = None\n",
    "args.well_placement_wset = [1500, 1500, 5500, 5500]\n",
    "args.well_operation_wset = [1500, 2500, 4500, 6000]\n",
    "\n",
    "args.perm_mat = './data/PERMX.mat'\n",
    "\n",
    "args.parallel = True\n",
    "\n",
    "args.cached_dir = './cached'\n",
    "args.proxy_models_list_file = 'comb_proxy221228.pkl'\n",
    "args.well_placement_sample_file = 'sample_wp_221227.pkl'\n",
    "args.well_operation_sample_file = 'sample_wo(5).pkl'\n",
    "args.num_of_epochs = 20\n",
    "args.batch_size = 150\n",
    "\n",
    "args.optimization_algorithm = 'PSO'\n",
    "args.num_of_generations = 200\n",
    "\n",
    "args.gen_of_retrain = range(args.span_of_retrain, args.num_of_generations + 1, args.span_of_retrain)\n",
    "\n",
    "assert args.validate_ratio != 0, 'validate_ratio should be greater than 0'\n",
    "assert (1 - args.train_ratio - args.validate_ratio) > 0, '(train_ratio + validate_ratio) should not be 1'\n",
    "if args.well_operation_optimization and not args.well_placement_optimization:\n",
    "    # if you only want to optimize well operation conditions, provide well position settings by yourself\n",
    "    assert args.well_placement_optimization, 'if you only want to optimize well operation conditions, provide ' \\\n",
    "                                             'well position settings by yourself. You must set the default well ' \\\n",
    "                                             'locations for a defined number of wells. ' \\\n",
    "                                             '- well_location_index, well_type_real'"
   ],
   "metadata": {
    "collapsed": false
   },
   "execution_count": 269,
   "outputs": [
    {
     "name": "stderr",
     "output_type": "stream",
     "text": [
      "[autoreload of utils failed: Traceback (most recent call last):\n",
      "  File \"C:\\Users\\jongwook\\miniconda3\\envs\\pytorch_1_9\\lib\\site-packages\\IPython\\extensions\\autoreload.py\", line 257, in check\n",
      "    superreload(m, reload, self.old_objects)\n",
      "  File \"C:\\Users\\jongwook\\miniconda3\\envs\\pytorch_1_9\\lib\\site-packages\\IPython\\extensions\\autoreload.py\", line 455, in superreload\n",
      "    module = reload(module)\n",
      "  File \"C:\\Users\\jongwook\\miniconda3\\envs\\pytorch_1_9\\lib\\importlib\\__init__.py\", line 169, in reload\n",
      "    _bootstrap._exec(spec, module)\n",
      "  File \"<frozen importlib._bootstrap>\", line 613, in _exec\n",
      "  File \"<frozen importlib._bootstrap_external>\", line 846, in exec_module\n",
      "  File \"<frozen importlib._bootstrap_external>\", line 983, in get_code\n",
      "  File \"<frozen importlib._bootstrap_external>\", line 913, in source_to_code\n",
      "  File \"<frozen importlib._bootstrap>\", line 228, in _call_with_frames_removed\n",
      "  File \"C:\\Jongwook_snu\\2022\\Optimization\\sequential-FDP-proxy-python\\utils.py\", line 55\n",
      "    os.path.join(args.train_model_saved_dir_super, args.train_model_saved_dir )\n",
      "    ^\n",
      "IndentationError: expected an indented block\n",
      "]\n"
     ]
    }
   ]
  },
  {
   "cell_type": "code",
   "execution_count": 3,
   "outputs": [],
   "source": [
    "if not os.path.exists(args.train_model_saved_dir):\n",
    "    if not os.path.exists(args.train_model_saved_dir_super):\n",
    "        print('model_saved_dir not exists')\n",
    "        os.mkdir(args.train_model_saved_dir_super)\n",
    "        os.mkdir(args.train_model_saved_dir)\n",
    "\n",
    "perm = load_matfile(args.perm_mat, 'original')\n",
    "perm_idx = load_matfile(args.perm_mat, 'selected')\n"
   ],
   "metadata": {
    "collapsed": false
   }
  },
  {
   "cell_type": "markdown",
   "source": [
    "### 1. Well placement\n"
   ],
   "metadata": {
    "collapsed": false
   }
  },
  {
   "cell_type": "markdown",
   "source": [
    "#### 1.1. Proxy modeling\n"
   ],
   "metadata": {
    "collapsed": false
   }
  },
  {
   "cell_type": "markdown",
   "source": [
    "##### make samples to train a proxy model"
   ],
   "metadata": {
    "collapsed": false
   }
  },
  {
   "cell_type": "code",
   "execution_count": 4,
   "outputs": [],
   "source": [
    "args.max_process = 16\n",
    "args.independent_area = 40\n",
    "args.num_of_train_sample = 500\n",
    "args.well_placement_wset = [1500, 1500, 5500, 5500]\n",
    "args.well_type = {'P': 1, 'No': 0, 'I': -1}\n",
    "args.ratio_of_infeasible = 0.3"
   ],
   "metadata": {
    "collapsed": false,
    "pycharm": {
     "name": "#%% arguments\n"
    }
   }
  },
  {
   "cell_type": "code",
   "execution_count": 5,
   "outputs": [
    {
     "name": "stdout",
     "output_type": "stream",
     "text": [
      "ensemble #1\n"
     ]
    },
    {
     "data": {
      "text/plain": "Please wait..:   0%|          | 0/500 [00:00<?, ?it/s]",
      "application/vnd.jupyter.widget-view+json": {
       "version_major": 2,
       "version_minor": 0,
       "model_id": "4e65aeebf3184fb882a5ca577b578bed"
      }
     },
     "metadata": {},
     "output_type": "display_data"
    },
    {
     "data": {
      "text/plain": "now ecl simulate:   0%|          | 0/500 [00:00<?, ?it/s]",
      "application/vnd.jupyter.widget-view+json": {
       "version_major": 2,
       "version_minor": 0,
       "model_id": "9cfc9ad0e9b1499d96ca37ec0dccbc4a"
      }
     },
     "metadata": {},
     "output_type": "display_data"
    },
    {
     "data": {
      "text/plain": "now frs simulate:   0%|          | 0/500 [00:00<?, ?it/s]",
      "application/vnd.jupyter.widget-view+json": {
       "version_major": 2,
       "version_minor": 0,
       "model_id": "d844bbfa2b4c4f88b88072c73fc4ddf7"
      }
     },
     "metadata": {},
     "output_type": "display_data"
    },
    {
     "name": "stdout",
     "output_type": "stream",
     "text": [
      "ensemble #2\n"
     ]
    },
    {
     "data": {
      "text/plain": "Please wait..:   0%|          | 0/500 [00:00<?, ?it/s]",
      "application/vnd.jupyter.widget-view+json": {
       "version_major": 2,
       "version_minor": 0,
       "model_id": "24e64fd94f784f86b078d516975d94e5"
      }
     },
     "metadata": {},
     "output_type": "display_data"
    },
    {
     "data": {
      "text/plain": "now ecl simulate:   0%|          | 0/500 [00:00<?, ?it/s]",
      "application/vnd.jupyter.widget-view+json": {
       "version_major": 2,
       "version_minor": 0,
       "model_id": "c60f1a4d88af44beab8d3765b004bcca"
      }
     },
     "metadata": {},
     "output_type": "display_data"
    },
    {
     "data": {
      "text/plain": "now frs simulate:   0%|          | 0/500 [00:00<?, ?it/s]",
      "application/vnd.jupyter.widget-view+json": {
       "version_major": 2,
       "version_minor": 0,
       "model_id": "1430700f566c46d1a4e2ae72925acaf2"
      }
     },
     "metadata": {},
     "output_type": "display_data"
    },
    {
     "name": "stdout",
     "output_type": "stream",
     "text": [
      "ensemble #3\n"
     ]
    },
    {
     "data": {
      "text/plain": "Please wait..:   0%|          | 0/500 [00:00<?, ?it/s]",
      "application/vnd.jupyter.widget-view+json": {
       "version_major": 2,
       "version_minor": 0,
       "model_id": "a2c0f824c0ad49c492f35b07c48b40c7"
      }
     },
     "metadata": {},
     "output_type": "display_data"
    },
    {
     "data": {
      "text/plain": "now ecl simulate:   0%|          | 0/500 [00:00<?, ?it/s]",
      "application/vnd.jupyter.widget-view+json": {
       "version_major": 2,
       "version_minor": 0,
       "model_id": "a3d323e2f3b44054990b0bbb9c42973d"
      }
     },
     "metadata": {},
     "output_type": "display_data"
    },
    {
     "data": {
      "text/plain": "now frs simulate:   0%|          | 0/500 [00:00<?, ?it/s]",
      "application/vnd.jupyter.widget-view+json": {
       "version_major": 2,
       "version_minor": 0,
       "model_id": "ccfabc3877604a06b9eab1423405427a"
      }
     },
     "metadata": {},
     "output_type": "display_data"
    },
    {
     "name": "stdout",
     "output_type": "stream",
     "text": [
      "ensemble #4\n"
     ]
    },
    {
     "data": {
      "text/plain": "Please wait..:   0%|          | 0/500 [00:00<?, ?it/s]",
      "application/vnd.jupyter.widget-view+json": {
       "version_major": 2,
       "version_minor": 0,
       "model_id": "75bfe3112cae4b4e9e2e6e1e8729c489"
      }
     },
     "metadata": {},
     "output_type": "display_data"
    },
    {
     "data": {
      "text/plain": "now ecl simulate:   0%|          | 0/500 [00:00<?, ?it/s]",
      "application/vnd.jupyter.widget-view+json": {
       "version_major": 2,
       "version_minor": 0,
       "model_id": "887cf681b3fa4232a336fdf7181d76c9"
      }
     },
     "metadata": {},
     "output_type": "display_data"
    },
    {
     "data": {
      "text/plain": "now frs simulate:   0%|          | 0/500 [00:00<?, ?it/s]",
      "application/vnd.jupyter.widget-view+json": {
       "version_major": 2,
       "version_minor": 0,
       "model_id": "731acaf1108a4d1b8ba7caba3541eaef"
      }
     },
     "metadata": {},
     "output_type": "display_data"
    },
    {
     "name": "stdout",
     "output_type": "stream",
     "text": [
      "ensemble #5\n"
     ]
    },
    {
     "data": {
      "text/plain": "Please wait..:   0%|          | 0/500 [00:00<?, ?it/s]",
      "application/vnd.jupyter.widget-view+json": {
       "version_major": 2,
       "version_minor": 0,
       "model_id": "03495c2e10e44756bd366a8000c92db5"
      }
     },
     "metadata": {},
     "output_type": "display_data"
    },
    {
     "data": {
      "text/plain": "now ecl simulate:   0%|          | 0/500 [00:00<?, ?it/s]",
      "application/vnd.jupyter.widget-view+json": {
       "version_major": 2,
       "version_minor": 0,
       "model_id": "c53bae4b27b9448394d4cf6222bb5391"
      }
     },
     "metadata": {},
     "output_type": "display_data"
    },
    {
     "data": {
      "text/plain": "now frs simulate:   0%|          | 0/500 [00:00<?, ?it/s]",
      "application/vnd.jupyter.widget-view+json": {
       "version_major": 2,
       "version_minor": 0,
       "model_id": "730726f648e04b94beca73995674336f"
      }
     },
     "metadata": {},
     "output_type": "display_data"
    },
    {
     "name": "stdout",
     "output_type": "stream",
     "text": [
      "ensemble #6\n"
     ]
    },
    {
     "data": {
      "text/plain": "Please wait..:   0%|          | 0/500 [00:00<?, ?it/s]",
      "application/vnd.jupyter.widget-view+json": {
       "version_major": 2,
       "version_minor": 0,
       "model_id": "fb6e34c887414ef69063e0ce2aa73d34"
      }
     },
     "metadata": {},
     "output_type": "display_data"
    },
    {
     "data": {
      "text/plain": "now ecl simulate:   0%|          | 0/500 [00:00<?, ?it/s]",
      "application/vnd.jupyter.widget-view+json": {
       "version_major": 2,
       "version_minor": 0,
       "model_id": "e306db788c5640eb81d3bff630a3c674"
      }
     },
     "metadata": {},
     "output_type": "display_data"
    },
    {
     "data": {
      "text/plain": "now frs simulate:   0%|          | 0/500 [00:00<?, ?it/s]",
      "application/vnd.jupyter.widget-view+json": {
       "version_major": 2,
       "version_minor": 0,
       "model_id": "ed57f4ece62641ab8752e76c2c412a2a"
      }
     },
     "metadata": {},
     "output_type": "display_data"
    },
    {
     "name": "stdout",
     "output_type": "stream",
     "text": [
      "ensemble #7\n"
     ]
    },
    {
     "data": {
      "text/plain": "Please wait..:   0%|          | 0/500 [00:00<?, ?it/s]",
      "application/vnd.jupyter.widget-view+json": {
       "version_major": 2,
       "version_minor": 0,
       "model_id": "236bf7f7891e47fdae0303847072298e"
      }
     },
     "metadata": {},
     "output_type": "display_data"
    },
    {
     "data": {
      "text/plain": "now ecl simulate:   0%|          | 0/500 [00:00<?, ?it/s]",
      "application/vnd.jupyter.widget-view+json": {
       "version_major": 2,
       "version_minor": 0,
       "model_id": "fa3f242ec65941ceb5a363db5b2126c9"
      }
     },
     "metadata": {},
     "output_type": "display_data"
    },
    {
     "data": {
      "text/plain": "now frs simulate:   0%|          | 0/500 [00:00<?, ?it/s]",
      "application/vnd.jupyter.widget-view+json": {
       "version_major": 2,
       "version_minor": 0,
       "model_id": "562e8bd9c793497080d8205b3942d761"
      }
     },
     "metadata": {},
     "output_type": "display_data"
    },
    {
     "name": "stdout",
     "output_type": "stream",
     "text": [
      "ensemble #8\n"
     ]
    },
    {
     "data": {
      "text/plain": "Please wait..:   0%|          | 0/500 [00:00<?, ?it/s]",
      "application/vnd.jupyter.widget-view+json": {
       "version_major": 2,
       "version_minor": 0,
       "model_id": "791dbd6ac5164f619ba4e2981ac35b7c"
      }
     },
     "metadata": {},
     "output_type": "display_data"
    },
    {
     "data": {
      "text/plain": "now ecl simulate:   0%|          | 0/500 [00:00<?, ?it/s]",
      "application/vnd.jupyter.widget-view+json": {
       "version_major": 2,
       "version_minor": 0,
       "model_id": "eb346abd54b44b42811f9cc1b5b5a838"
      }
     },
     "metadata": {},
     "output_type": "display_data"
    },
    {
     "data": {
      "text/plain": "now frs simulate:   0%|          | 0/500 [00:00<?, ?it/s]",
      "application/vnd.jupyter.widget-view+json": {
       "version_major": 2,
       "version_minor": 0,
       "model_id": "9666a4aa48464471a6bcebd0fe022a68"
      }
     },
     "metadata": {},
     "output_type": "display_data"
    },
    {
     "name": "stdout",
     "output_type": "stream",
     "text": [
      "ensemble #9\n"
     ]
    },
    {
     "data": {
      "text/plain": "Please wait..:   0%|          | 0/500 [00:00<?, ?it/s]",
      "application/vnd.jupyter.widget-view+json": {
       "version_major": 2,
       "version_minor": 0,
       "model_id": "0d9d14ffa58f4fe8bcee4c130e3217ad"
      }
     },
     "metadata": {},
     "output_type": "display_data"
    },
    {
     "data": {
      "text/plain": "now ecl simulate:   0%|          | 0/500 [00:00<?, ?it/s]",
      "application/vnd.jupyter.widget-view+json": {
       "version_major": 2,
       "version_minor": 0,
       "model_id": "b6d7e1e7628d4d74929e471b91b5c448"
      }
     },
     "metadata": {},
     "output_type": "display_data"
    },
    {
     "data": {
      "text/plain": "now frs simulate:   0%|          | 0/500 [00:00<?, ?it/s]",
      "application/vnd.jupyter.widget-view+json": {
       "version_major": 2,
       "version_minor": 0,
       "model_id": "e4aef31f15af449b98f5aa63b349e012"
      }
     },
     "metadata": {},
     "output_type": "display_data"
    },
    {
     "name": "stdout",
     "output_type": "stream",
     "text": [
      "ensemble #10\n"
     ]
    },
    {
     "data": {
      "text/plain": "Please wait..:   0%|          | 0/500 [00:00<?, ?it/s]",
      "application/vnd.jupyter.widget-view+json": {
       "version_major": 2,
       "version_minor": 0,
       "model_id": "712f4437aec149b0a1a8834dfabce3ce"
      }
     },
     "metadata": {},
     "output_type": "display_data"
    },
    {
     "data": {
      "text/plain": "now ecl simulate:   0%|          | 0/500 [00:00<?, ?it/s]",
      "application/vnd.jupyter.widget-view+json": {
       "version_major": 2,
       "version_minor": 0,
       "model_id": "07ff1cb07a28433ab0de3d0f23acd7e9"
      }
     },
     "metadata": {},
     "output_type": "display_data"
    },
    {
     "data": {
      "text/plain": "now frs simulate:   0%|          | 0/500 [00:00<?, ?it/s]",
      "application/vnd.jupyter.widget-view+json": {
       "version_major": 2,
       "version_minor": 0,
       "model_id": "08327ceab2724fe8a7550b737337d1d6"
      }
     },
     "metadata": {},
     "output_type": "display_data"
    }
   ],
   "source": [
    "PlacementSample = DataSampling(args, wset=args.well_placement_wset, well_type=args.well_type,\n",
    "                                       location_fix=False, type_fix=False, drilling_time_fix=True,\n",
    "                                       control_fix=True, num_of_ensemble=args.num_of_ensemble,\n",
    "                                       num_of_wells=args.num_of_max_well)\n",
    "\n",
    "if os.path.exists(os.path.join(args.cached_dir, args.well_placement_sample_file)):\n",
    "    with open(os.path.join(args.cached_dir, args.well_placement_sample_file), 'rb') as f:\n",
    "        samples_p = pickle.load(f)\n",
    "else:\n",
    "    samples_p = []\n",
    "    for idx in range(args.num_of_ensemble):\n",
    "        print(f'ensemble #{idx + 1}')\n",
    "        initial_p = PlacementSample.make_candidate_solutions(num_of_candidates=args.num_of_train_sample)\n",
    "        samples_p += PlacementSample.make_train_data_parallel(initial_p, [perm[perm_idx[idx][0] - 1]])\n",
    "    with open(os.path.join(args.cached_dir, args.well_placement_sample_file), 'wb') as f:\n",
    "        pickle.dump(samples_p, f)\n"
   ],
   "metadata": {
    "collapsed": false
   }
  },
  {
   "cell_type": "markdown",
   "source": [
    "##### NPV histogram"
   ],
   "metadata": {
    "collapsed": false
   }
  },
  {
   "cell_type": "code",
   "execution_count": 6,
   "outputs": [
    {
     "data": {
      "text/plain": "(array([  48.,  216.,  467.,  878., 1064., 1082.,  792.,  338.,  101.,\n          14.]),\n array([-4.08492971e+07,  7.46430248e+06,  5.57779020e+07,  1.04091502e+08,\n         1.52405101e+08,  2.00718701e+08,  2.49032300e+08,  2.97345900e+08,\n         3.45659499e+08,  3.93973099e+08,  4.42286698e+08]),\n <BarContainer object of 10 artists>)"
     },
     "execution_count": 6,
     "metadata": {},
     "output_type": "execute_result"
    },
    {
     "data": {
      "text/plain": "<Figure size 432x288 with 1 Axes>",
      "image/png": "[encoded data removed]"
     },
     "metadata": {
      "needs_background": "light"
     },
     "output_type": "display_data"
    }
   ],
   "source": [
    "from matplotlib import pyplot\n",
    "pyplot.hist([s.fit for s in samples_p])"
   ],
   "metadata": {
    "collapsed": false
   }
  },
  {
   "cell_type": "markdown",
   "source": [
    "##### train a proxy model"
   ],
   "metadata": {
    "collapsed": false
   }
  },
  {
   "cell_type": "code",
   "execution_count": 329,
   "outputs": [],
   "source": [
    "args.train_ratio = 0.7\n",
    "args.validate_ratio = 0.15\n",
    "args.train_model_saved_dir = './model/1'\n",
    "\n",
    "args.num_of_epochs = 20\n",
    "args.batch_size = 150\n",
    "model_name = 'CNN'\n",
    "args.input_flag = ('TOFI', 'TOFP', 'Config')"
   ],
   "metadata": {
    "collapsed": false,
    "pycharm": {
     "name": "#%% arguments\n"
    }
   }
  },
  {
   "cell_type": "code",
   "execution_count": 330,
   "outputs": [
    {
     "data": {
      "text/plain": "  0%|          | 0/20 [00:00<?, ?it/s]",
      "application/vnd.jupyter.widget-view+json": {
       "version_major": 2,
       "version_minor": 0,
       "model_id": "7f6199ec129c4860adb373154d6372f2"
      }
     },
     "metadata": {},
     "output_type": "display_data"
    },
    {
     "name": "stdout",
     "output_type": "stream",
     "text": [
      "Epoch 1 \t\t Training Loss: 0.6141752563416958 \t\t Validation Loss: 0.7869670152664184\n",
      "Validation Loss Decreased(inf--->0.786967) \t Saving The Model\n",
      "Epoch 2 \t\t Training Loss: 0.4406488550206025 \t\t Validation Loss: 0.6116124987602234\n",
      "Validation Loss Decreased(0.786967--->0.611612) \t Saving The Model\n",
      "Epoch 3 \t\t Training Loss: 0.3690837894876798 \t\t Validation Loss: 1.2779664754867555\n",
      "Epoch 4 \t\t Training Loss: 0.3508175772925218 \t\t Validation Loss: 0.3667409658432007\n",
      "Validation Loss Decreased(0.611612--->0.366741) \t Saving The Model\n",
      "Epoch 5 \t\t Training Loss: 0.32992283006509143 \t\t Validation Loss: 1.5339219331741334\n",
      "Epoch 6 \t\t Training Loss: 0.31887848551074666 \t\t Validation Loss: 2.3160117149353026\n",
      "Epoch 7 \t\t Training Loss: 0.313330818588535 \t\t Validation Loss: 1.345066499710083\n",
      "Epoch 8 \t\t Training Loss: 0.2867048991223176 \t\t Validation Loss: 0.47210692763328554\n",
      "Epoch 9 \t\t Training Loss: 0.2808922839661439 \t\t Validation Loss: 1.0591762065887451\n",
      "Epoch 10 \t\t Training Loss: 0.2819635247190793 \t\t Validation Loss: 0.6230244517326355\n",
      "Epoch 11 \t\t Training Loss: 0.2797403944035371 \t\t Validation Loss: 3.276847505569458\n",
      "Epoch 12 \t\t Training Loss: 0.2601382186015447 \t\t Validation Loss: 0.5303530871868134\n",
      "Epoch 13 \t\t Training Loss: 0.25473416969180107 \t\t Validation Loss: 0.5036028504371644\n",
      "Epoch 14 \t\t Training Loss: 0.24767429878314337 \t\t Validation Loss: 2.6671638965606688\n",
      "Epoch 15 \t\t Training Loss: 0.2550201794753472 \t\t Validation Loss: 0.8030769348144531\n",
      "Epoch 16 \t\t Training Loss: 0.2707148448874553 \t\t Validation Loss: 3.900492715835571\n",
      "Epoch 17 \t\t Training Loss: 0.25383115373551846 \t\t Validation Loss: 0.9308754801750183\n",
      "Epoch 18 \t\t Training Loss: 0.2413219679147005 \t\t Validation Loss: 0.707259738445282\n",
      "Epoch 19 \t\t Training Loss: 0.26448643890519935 \t\t Validation Loss: 2.9390516757965086\n",
      "Epoch 20 \t\t Training Loss: 0.23911012336611748 \t\t Validation Loss: 0.2886027157306671\n",
      "Validation Loss Decreased(0.366741--->0.288603) \t Saving The Model\n",
      "Now test to test_dataset\n",
      "R_2: 0.9076\n",
      "MAPE: 0.16%\n"
     ]
    }
   ],
   "source": [
    "Model_p = ProxyModel(args, samples_p, model_name=model_name)\n",
    "# if os.path.exists(f'{Model_p.saved_dir}/saved_model.pth'):\n",
    "#     Model_p.model.load_state_dict(torch.load(f'{Model_p.saved_dir}/saved_model.pth'))\n",
    "# else:\n",
    "Model_p.model = Model_p.train_model(samples_p, train_ratio=args.train_ratio,\n",
    "                                    validate_ratio=args.validate_ratio,\n",
    "                                    saved_dir=Model_p.saved_dir,\n",
    "                                    saved_model='saved_model')"
   ],
   "metadata": {
    "collapsed": false
   }
  },
  {
   "cell_type": "markdown",
   "source": [
    "##### plot \"real-prediction\""
   ],
   "metadata": {
    "collapsed": false
   }
  },
  {
   "cell_type": "code",
   "execution_count": 331,
   "outputs": [
    {
     "name": "stderr",
     "output_type": "stream",
     "text": [
      "[autoreload of algorithms failed: Traceback (most recent call last):\n",
      "  File \"C:\\Users\\jongwook\\miniconda3\\envs\\pytorch_1_9\\lib\\site-packages\\IPython\\extensions\\autoreload.py\", line 257, in check\n",
      "    superreload(m, reload, self.old_objects)\n",
      "  File \"C:\\Users\\jongwook\\miniconda3\\envs\\pytorch_1_9\\lib\\site-packages\\IPython\\extensions\\autoreload.py\", line 455, in superreload\n",
      "    module = reload(module)\n",
      "  File \"C:\\Users\\jongwook\\miniconda3\\envs\\pytorch_1_9\\lib\\importlib\\__init__.py\", line 169, in reload\n",
      "    _bootstrap._exec(spec, module)\n",
      "  File \"<frozen importlib._bootstrap>\", line 613, in _exec\n",
      "  File \"<frozen importlib._bootstrap_external>\", line 846, in exec_module\n",
      "  File \"<frozen importlib._bootstrap_external>\", line 983, in get_code\n",
      "  File \"<frozen importlib._bootstrap_external>\", line 913, in source_to_code\n",
      "  File \"<frozen importlib._bootstrap>\", line 228, in _call_with_frames_removed\n",
      "  File \"C:\\Jongwook_snu\\2022\\Optimization\\sequential-FDP-proxy-python\\algorithms.py\", line 109\n",
      "    predictions.append(position.fit)\n",
      "                                    ^\n",
      "IndentationError: unindent does not match any outer indentation level\n",
      "]\n"
     ]
    },
    {
     "data": {
      "text/plain": "<Figure size 1800x1200 with 1 Axes>",
      "image/png": "[encoded data removed]"
     },
     "metadata": {
      "needs_background": "light"
     },
     "output_type": "display_data"
    }
   ],
   "source": [
    "get_regress(Model_p, args,'ref')"
   ],
   "metadata": {
    "collapsed": false
   }
  },
  {
   "cell_type": "markdown",
   "source": [
    "<b><i>Find proper input</b></i>"
   ],
   "metadata": {
    "collapsed": false
   }
  },
  {
   "cell_type": "code",
   "execution_count": 332,
   "outputs": [],
   "source": [
    "from itertools import combinations\n",
    "from tqdm.notebook import tqdm\n",
    "\n",
    "args.input_list = ['TOFP','TOFI','Pressure','ResPressure', 'Sat', 'Perm', 'LogPerm', 'Bekzad', 'Jang']\n",
    "\n",
    "args.num_of_combination = 3\n",
    "args.comb_dict = {}\n",
    "for i, comb in enumerate(['Config'] + args.input_list):\n",
    "    args.comb_dict[f'{1}_{i}'] =  [comb]\n",
    "for ncomb in range(1,args.num_of_combination + 1):\n",
    "    for i, comb in enumerate(combinations(args.input_list, ncomb)):\n",
    "        args.comb_dict[f'{ncomb}_{i}'] = comb"
   ],
   "metadata": {
    "collapsed": false
   }
  },
  {
   "cell_type": "code",
   "execution_count": null,
   "outputs": [],
   "source": [
    "args.num_of_epochs = 20\n",
    "if os.path.exists(os.path.join(args.cached_dir, args.proxy_models_list_file)):\n",
    "    with open(os.path.join(args.cached_dir, args.proxy_models_list_file), 'rb') as f:\n",
    "        model_collection = pickle.load(f)\n",
    "else:\n",
    "    model_collection = []\n",
    "    for key in tqdm(args.comb_dict.keys(), 'Find best combination...'):\n",
    "        Model_c = SilentProxyModel(args, samples_p, model_name=model_name)\n",
    "        print(key)\n",
    "        Model_c.args.input_flag = args.comb_dict[key]\n",
    "        Model_c.model = Model_c.train_model(samples_p, train_ratio=args.train_ratio,\n",
    "                                        validate_ratio=args.validate_ratio,\n",
    "                                        saved_dir=Model_p.saved_dir,\n",
    "                                        saved_model=f'saved_model{key}')\n",
    "        model_collection.append(Model_p)\n",
    "        get_regress(Model_p, args, key)\n",
    "\n",
    "    with open(os.path.join(args.cached_dir, args.proxy_models_list_file), 'wb') as f:\n",
    "        pickle.dump(model_collection, f)\n"
   ],
   "metadata": {
    "collapsed": false
   }
  },
  {
   "cell_type": "markdown",
   "source": [
    "#### 1.2. Optimization\n"
   ],
   "metadata": {
    "collapsed": false
   }
  },
  {
   "cell_type": "code",
   "execution_count": null,
   "outputs": [],
   "source": [
    "args.optimization_algorithm = 'PSO'\n",
    "args.num_of_generations = 100\n",
    "args.span_of_retrain = 20"
   ],
   "metadata": {
    "collapsed": false,
    "pycharm": {
     "name": "#%% arguments\n"
    }
   }
  },
  {
   "cell_type": "code",
   "execution_count": 343,
   "outputs": [
    {
     "data": {
      "text/plain": "Please wait..:   0%|          | 0/40 [00:00<?, ?it/s]",
      "application/vnd.jupyter.widget-view+json": {
       "version_major": 2,
       "version_minor": 0,
       "model_id": "564f48722bdd42948a2b3dbf00fb5c79"
      }
     },
     "metadata": {},
     "output_type": "display_data"
    },
    {
     "data": {
      "text/plain": "  0%|          | 0/100 [00:00<?, ?it/s]",
      "application/vnd.jupyter.widget-view+json": {
       "version_major": 2,
       "version_minor": 0,
       "model_id": "a196fc98801040e69c94424b5808130e"
      }
     },
     "metadata": {},
     "output_type": "display_data"
    },
    {
     "ename": "KeyboardInterrupt",
     "evalue": "",
     "output_type": "error",
     "traceback": [
      "\u001B[1;31m---------------------------------------------------------------------------\u001B[0m",
      "\u001B[1;31mKeyboardInterrupt\u001B[0m                         Traceback (most recent call last)",
      "Input \u001B[1;32mIn [343]\u001B[0m, in \u001B[0;36m<cell line: 6>\u001B[1;34m()\u001B[0m\n\u001B[0;32m      2\u001B[0m placement_positions \u001B[38;5;241m=\u001B[39m PlacementSample\u001B[38;5;241m.\u001B[39mmake_candidate_solutions(num_of_candidates\u001B[38;5;241m=\u001B[39margs\u001B[38;5;241m.\u001B[39mnum_of_particles)\n\u001B[0;32m      4\u001B[0m WPO \u001B[38;5;241m=\u001B[39m GlobalOpt(args, placement_positions, [PlacementSample\u001B[38;5;241m.\u001B[39mperm[idx[\u001B[38;5;241m0\u001B[39m]\u001B[38;5;241m-\u001B[39m\u001B[38;5;241m1\u001B[39m] \u001B[38;5;28;01mfor\u001B[39;00m idx \u001B[38;5;129;01min\u001B[39;00m PlacementSample\u001B[38;5;241m.\u001B[39mperm_idx],\n\u001B[0;32m      5\u001B[0m                 alg_name\u001B[38;5;241m=\u001B[39m\u001B[38;5;124m'\u001B[39m\u001B[38;5;124mPSO\u001B[39m\u001B[38;5;124m'\u001B[39m, nn_model\u001B[38;5;241m=\u001B[39mModel_p, sample\u001B[38;5;241m=\u001B[39msamples_p)\n\u001B[1;32m----> 6\u001B[0m \u001B[43mWPO\u001B[49m\u001B[38;5;241;43m.\u001B[39;49m\u001B[43miterate\u001B[49m\u001B[43m(\u001B[49m\u001B[43margs\u001B[49m\u001B[38;5;241;43m.\u001B[39;49m\u001B[43mnum_of_generations\u001B[49m\u001B[43m)\u001B[49m\n\u001B[0;32m      7\u001B[0m best_wp \u001B[38;5;241m=\u001B[39m WPO\u001B[38;5;241m.\u001B[39mget_solution(location\u001B[38;5;241m=\u001B[39m\u001B[38;5;28;01mTrue\u001B[39;00m, \u001B[38;5;28mtype\u001B[39m\u001B[38;5;241m=\u001B[39m\u001B[38;5;28;01mTrue\u001B[39;00m)\n",
      "File \u001B[1;32mC:\\Jongwook_snu\\2022\\Optimization\\sequential-FDP-proxy-python\\optimization.py:29\u001B[0m, in \u001B[0;36mGlobalOpt.iterate\u001B[1;34m(self, num_of_generations)\u001B[0m\n\u001B[0;32m     27\u001B[0m iterbar \u001B[38;5;241m=\u001B[39m tqdm(\u001B[38;5;28mrange\u001B[39m(num_of_generations))\n\u001B[0;32m     28\u001B[0m \u001B[38;5;28;01mfor\u001B[39;00m gen \u001B[38;5;129;01min\u001B[39;00m iterbar:\n\u001B[1;32m---> 29\u001B[0m     positions_evaluated \u001B[38;5;241m=\u001B[39m \u001B[38;5;28;43mself\u001B[39;49m\u001B[38;5;241;43m.\u001B[39;49m\u001B[43malgorithm\u001B[49m\u001B[38;5;241;43m.\u001B[39;49m\u001B[43mevaluate\u001B[49m\u001B[43m(\u001B[49m\u001B[38;5;28;43mself\u001B[39;49m\u001B[38;5;241;43m.\u001B[39;49m\u001B[43malgorithm\u001B[49m\u001B[38;5;241;43m.\u001B[39;49m\u001B[43mpositions_all\u001B[49m\u001B[43m[\u001B[49m\u001B[38;5;241;43m-\u001B[39;49m\u001B[38;5;241;43m1\u001B[39;49m\u001B[43m]\u001B[49m\u001B[43m,\u001B[49m\u001B[43m \u001B[49m\u001B[38;5;28;43mself\u001B[39;49m\u001B[38;5;241;43m.\u001B[39;49m\u001B[43mnn_model\u001B[49m\u001B[43m)\u001B[49m\n\u001B[0;32m     30\u001B[0m     \u001B[38;5;28mself\u001B[39m\u001B[38;5;241m.\u001B[39malgorithm\u001B[38;5;241m.\u001B[39mupdate(positions_evaluated)\n\u001B[0;32m     32\u001B[0m     iterbar\u001B[38;5;241m.\u001B[39mset_description(\u001B[38;5;124mf\u001B[39m\u001B[38;5;124m\"\u001B[39m\u001B[38;5;124mbest fit = \u001B[39m\u001B[38;5;132;01m{\u001B[39;00m\u001B[38;5;28mself\u001B[39m\u001B[38;5;241m.\u001B[39malgorithm\u001B[38;5;241m.\u001B[39mgbest[\u001B[38;5;241m-\u001B[39m\u001B[38;5;241m1\u001B[39m]\u001B[38;5;241m.\u001B[39mfit\u001B[38;5;132;01m}\u001B[39;00m\u001B[38;5;124m\"\u001B[39m)\n",
      "File \u001B[1;32mC:\\Jongwook_snu\\2022\\Optimization\\sequential-FDP-proxy-python\\algorithms.py:76\u001B[0m, in \u001B[0;36mPSO.evaluate\u001B[1;34m(self, positions, neural_model)\u001B[0m\n\u001B[0;32m     73\u001B[0m pfs\u001B[38;5;241m.\u001B[39mappend(pf)\n\u001B[0;32m     74\u001B[0m \u001B[38;5;28;01mif\u001B[39;00m (((idx \u001B[38;5;241m+\u001B[39m \u001B[38;5;241m1\u001B[39m) \u001B[38;5;241m%\u001B[39m \u001B[38;5;28mself\u001B[39m\u001B[38;5;241m.\u001B[39margs\u001B[38;5;241m.\u001B[39mmax_process \u001B[38;5;241m==\u001B[39m \u001B[38;5;241m0\u001B[39m) \u001B[38;5;129;01mand\u001B[39;00m \u001B[38;5;129;01mnot\u001B[39;00m (idx \u001B[38;5;241m+\u001B[39m \u001B[38;5;241m1\u001B[39m) \u001B[38;5;241m==\u001B[39m \u001B[38;5;241m0\u001B[39m) \u001B[38;5;129;01mor\u001B[39;00m (idx \u001B[38;5;241m+\u001B[39m \u001B[38;5;241m1\u001B[39m) \u001B[38;5;241m==\u001B[39m \u001B[38;5;28mlen\u001B[39m(\n\u001B[0;32m     75\u001B[0m         positions):\n\u001B[1;32m---> 76\u001B[0m     \u001B[38;5;28;01mfor\u001B[39;00m p \u001B[38;5;129;01min\u001B[39;00m pfs: \u001B[43mp\u001B[49m\u001B[38;5;241;43m.\u001B[39;49m\u001B[43mjoin\u001B[49m\u001B[43m(\u001B[49m\u001B[43m)\u001B[49m\n\u001B[0;32m     77\u001B[0m     \u001B[38;5;28;01mwhile\u001B[39;00m \u001B[38;5;129;01mnot\u001B[39;00m exists(\n\u001B[0;32m     78\u001B[0m             position\u001B[38;5;241m.\u001B[39msimulation_directory \u001B[38;5;241m+\u001B[39m \u001B[38;5;124m'\u001B[39m\u001B[38;5;124m/\u001B[39m\u001B[38;5;124m'\u001B[39m \u001B[38;5;241m+\u001B[39m position\u001B[38;5;241m.\u001B[39mfrs_filename \u001B[38;5;241m+\u001B[39m \u001B[38;5;124mf\u001B[39m\u001B[38;5;124m'\u001B[39m\u001B[38;5;124m_\u001B[39m\u001B[38;5;132;01m{\u001B[39;00midx \u001B[38;5;241m+\u001B[39m \u001B[38;5;241m1\u001B[39m\u001B[38;5;132;01m}\u001B[39;00m\u001B[38;5;124m.X0001\u001B[39m\u001B[38;5;124m'\u001B[39m): sleep(\n\u001B[0;32m     79\u001B[0m         \u001B[38;5;241m0.1\u001B[39m)\n",
      "File \u001B[1;32m~\\miniconda3\\envs\\pytorch_1_9\\lib\\multiprocessing\\process.py:149\u001B[0m, in \u001B[0;36mBaseProcess.join\u001B[1;34m(self, timeout)\u001B[0m\n\u001B[0;32m    147\u001B[0m \u001B[38;5;28;01massert\u001B[39;00m \u001B[38;5;28mself\u001B[39m\u001B[38;5;241m.\u001B[39m_parent_pid \u001B[38;5;241m==\u001B[39m os\u001B[38;5;241m.\u001B[39mgetpid(), \u001B[38;5;124m'\u001B[39m\u001B[38;5;124mcan only join a child process\u001B[39m\u001B[38;5;124m'\u001B[39m\n\u001B[0;32m    148\u001B[0m \u001B[38;5;28;01massert\u001B[39;00m \u001B[38;5;28mself\u001B[39m\u001B[38;5;241m.\u001B[39m_popen \u001B[38;5;129;01mis\u001B[39;00m \u001B[38;5;129;01mnot\u001B[39;00m \u001B[38;5;28;01mNone\u001B[39;00m, \u001B[38;5;124m'\u001B[39m\u001B[38;5;124mcan only join a started process\u001B[39m\u001B[38;5;124m'\u001B[39m\n\u001B[1;32m--> 149\u001B[0m res \u001B[38;5;241m=\u001B[39m \u001B[38;5;28;43mself\u001B[39;49m\u001B[38;5;241;43m.\u001B[39;49m\u001B[43m_popen\u001B[49m\u001B[38;5;241;43m.\u001B[39;49m\u001B[43mwait\u001B[49m\u001B[43m(\u001B[49m\u001B[43mtimeout\u001B[49m\u001B[43m)\u001B[49m\n\u001B[0;32m    150\u001B[0m \u001B[38;5;28;01mif\u001B[39;00m res \u001B[38;5;129;01mis\u001B[39;00m \u001B[38;5;129;01mnot\u001B[39;00m \u001B[38;5;28;01mNone\u001B[39;00m:\n\u001B[0;32m    151\u001B[0m     _children\u001B[38;5;241m.\u001B[39mdiscard(\u001B[38;5;28mself\u001B[39m)\n",
      "File \u001B[1;32m~\\miniconda3\\envs\\pytorch_1_9\\lib\\multiprocessing\\popen_spawn_win32.py:108\u001B[0m, in \u001B[0;36mPopen.wait\u001B[1;34m(self, timeout)\u001B[0m\n\u001B[0;32m    105\u001B[0m \u001B[38;5;28;01melse\u001B[39;00m:\n\u001B[0;32m    106\u001B[0m     msecs \u001B[38;5;241m=\u001B[39m \u001B[38;5;28mmax\u001B[39m(\u001B[38;5;241m0\u001B[39m, \u001B[38;5;28mint\u001B[39m(timeout \u001B[38;5;241m*\u001B[39m \u001B[38;5;241m1000\u001B[39m \u001B[38;5;241m+\u001B[39m \u001B[38;5;241m0.5\u001B[39m))\n\u001B[1;32m--> 108\u001B[0m res \u001B[38;5;241m=\u001B[39m \u001B[43m_winapi\u001B[49m\u001B[38;5;241;43m.\u001B[39;49m\u001B[43mWaitForSingleObject\u001B[49m\u001B[43m(\u001B[49m\u001B[38;5;28;43mint\u001B[39;49m\u001B[43m(\u001B[49m\u001B[38;5;28;43mself\u001B[39;49m\u001B[38;5;241;43m.\u001B[39;49m\u001B[43m_handle\u001B[49m\u001B[43m)\u001B[49m\u001B[43m,\u001B[49m\u001B[43m \u001B[49m\u001B[43mmsecs\u001B[49m\u001B[43m)\u001B[49m\n\u001B[0;32m    109\u001B[0m \u001B[38;5;28;01mif\u001B[39;00m res \u001B[38;5;241m==\u001B[39m _winapi\u001B[38;5;241m.\u001B[39mWAIT_OBJECT_0:\n\u001B[0;32m    110\u001B[0m     code \u001B[38;5;241m=\u001B[39m _winapi\u001B[38;5;241m.\u001B[39mGetExitCodeProcess(\u001B[38;5;28mself\u001B[39m\u001B[38;5;241m.\u001B[39m_handle)\n",
      "\u001B[1;31mKeyboardInterrupt\u001B[0m: "
     ]
    }
   ],
   "source": [
    "args.num_of_particles = 40\n",
    "placement_positions = PlacementSample.make_candidate_solutions(num_of_candidates=args.num_of_particles)\n",
    "\n",
    "WPO = GlobalOpt(args, placement_positions, [PlacementSample.perm[idx[0]-1] for idx in PlacementSample.perm_idx],\n",
    "                alg_name='PSO', nn_model=Model_p, sample=samples_p)\n",
    "WPO.iterate(args.num_of_generations)\n",
    "best_wp = WPO.get_solution(location=True, type=True)"
   ],
   "metadata": {
    "collapsed": false
   }
  },
  {
   "cell_type": "markdown",
   "source": [
    "### 2. Well operation\n"
   ],
   "metadata": {
    "collapsed": false
   }
  },
  {
   "cell_type": "markdown",
   "source": [
    "#### 2.1. Proxy modeling"
   ],
   "metadata": {
    "collapsed": false
   }
  },
  {
   "cell_type": "markdown",
   "source": [
    "##### make samples to train a proxy model\n"
   ],
   "metadata": {
    "collapsed": false
   }
  },
  {
   "cell_type": "code",
   "execution_count": null,
   "outputs": [],
   "source": [
    "OperationSample = DataSampling(args, wset=args.well_operation_wset, well_type=args.well_type,\n",
    "                                       type_fix=True, location_fix=True, drilling_time_fix=False,\n",
    "                                       control_fix=False, num_of_ensemble=args.num_of_ensemble,\n",
    "                                       num_of_wells=len(best_wp['location']), violation_check=False)\n",
    "\n",
    "if os.path.exists(os.path.join(args.cached_dir, args.well_operation_sample_file)):\n",
    "    with open(args.cached_file, 'rb') as f:\n",
    "        samples_o = pickle.load(f)\n",
    "else:\n",
    "    args.drilling_cost = 2E+06\n",
    "    initial_o = OperationSample.make_candidate_solutions(num_of_candidates=args.num_of_train_sample,\n",
    "                                                         location=best_wp['location'],\n",
    "                                                         type_real=best_wp['type'])\n",
    "    samples_o = OperationSample.make_train_data(initial_o, [perm[idx[0] - 1] for idx in perm_idx],\n",
    "                                                use_frontsim=False)\n",
    "    with open(os.path.join(args.cached_dir, args.well_operation_sample_file), 'wb') as f:\n",
    "        pickle.dump(samples_o, f)"
   ],
   "metadata": {
    "collapsed": false
   }
  },
  {
   "cell_type": "markdown",
   "source": [
    "##### NPV histogram"
   ],
   "metadata": {
    "collapsed": false
   }
  },
  {
   "cell_type": "code",
   "execution_count": null,
   "outputs": [],
   "source": [
    "from matplotlib import pyplot\n",
    "pyplot.hist([s.fit for s in samples_o])"
   ],
   "metadata": {
    "collapsed": false
   }
  },
  {
   "cell_type": "markdown",
   "source": [
    "##### train a proxy model"
   ],
   "metadata": {
    "collapsed": false
   }
  },
  {
   "cell_type": "code",
   "execution_count": null,
   "outputs": [],
   "source": [
    "Model_o = ProxyModel(args, samples_o, model_name='LSTM')\n",
    "if os.path.exists(f'{Model_o.saved_dir}/saved_model.pth'):\n",
    "    Model_o.model.load_state_dict(torch.load(f'{Model_o.saved_dir}/saved_model.pth'))\n",
    "else:\n",
    "    Model_o.model = Model_o.train_model(samples_o, train_ratio=args.train_ratio,\n",
    "                                        validate_ratio=args.validate_ratio,\n",
    "                                        saved_dir=Model_o.saved_dir)"
   ],
   "metadata": {
    "collapsed": false
   }
  },
  {
   "cell_type": "markdown",
   "source": [
    "##### plot \"real-prediction\""
   ],
   "metadata": {
    "collapsed": false
   }
  },
  {
   "cell_type": "code",
   "execution_count": null,
   "outputs": [],
   "source": [
    "from matplotlib import pyplot\n",
    "real = Model_o.reals\n",
    "prediction = Model_o.predictions\n",
    "pyplot.scatter(real, prediction)"
   ],
   "metadata": {
    "collapsed": false
   }
  },
  {
   "cell_type": "markdown",
   "source": [
    "#### 2.2. Optimization"
   ],
   "metadata": {
    "collapsed": false
   }
  },
  {
   "cell_type": "code",
   "execution_count": null,
   "outputs": [],
   "source": [
    "operation_positions = OperationSample.make_candidate_solutions(num_of_candidates=args.num_of_particles)\n",
    "\n",
    "WOO = GlobalOpt(args, operation_positions, OperationSample.perm[:, OperationSample.perm_idx - 1],\n",
    "                alg_name='PSO', nn_model=Model_o, sample=samples_p)\n",
    "WOO.iterate(args.num_of_generations)\n",
    "best_wo = WOO.get_solution(drilling_time=True, control=True)"
   ],
   "metadata": {
    "collapsed": false
   }
  }
 ],
 "metadata": {
  "kernelspec": {
   "display_name": "Python 3",
   "language": "python",
   "name": "python3"
  },
  "language_info": {
   "codemirror_mode": {
    "name": "ipython",
    "version": 2
   },
   "file_extension": ".py",
   "mimetype": "text/x-python",
   "name": "python",
   "nbconvert_exporter": "python",
   "pygments_lexer": "ipython2",
   "version": "2.7.6"
  }
 },
 "nbformat": 4,
 "nbformat_minor": 0
}
