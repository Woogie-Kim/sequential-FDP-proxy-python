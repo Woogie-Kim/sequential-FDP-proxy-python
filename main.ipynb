{
 "cells": [
  {
   "cell_type": "markdown",
   "source": [
    "## Sequential FDP with proxy models"
   ],
   "metadata": {
    "collapsed": false
   }
  },
  {
   "cell_type": "markdown",
   "source": [
    "#### Load modules"
   ],
   "metadata": {
    "collapsed": false
   }
  },
  {
   "cell_type": "code",
   "execution_count": 15,
   "metadata": {
    "collapsed": true
   },
   "outputs": [
    {
     "name": "stdout",
     "output_type": "stream",
     "text": [
      "The autoreload extension is already loaded. To reload it, use:\n",
      "  %reload_ext autoreload\n"
     ]
    }
   ],
   "source": [
    "%load_ext autoreload\n",
    "%autoreload 2\n",
    "\n",
    "import os.path\n",
    "import pickle\n",
    "\n",
    "from sampler import DataSampling\n",
    "from proxymodel import ProxyModel\n",
    "from optimization import GlobalOpt\n",
    "from utils import load_matfile\n",
    "import argparse\n",
    "import torch"
   ]
  },
  {
   "cell_type": "markdown",
   "source": [
    "#### Set parameters"
   ],
   "metadata": {
    "collapsed": false
   }
  },
  {
   "cell_type": "code",
   "source": [
    "parser = argparse.ArgumentParser()\n",
    "\n",
    "args, unknown = parser.parse_known_args()\n",
    "\n",
    "args.filepath = 'data'\n",
    "args.simulation_directory = 'simulation'\n",
    "args.save_directory = 'variables'\n",
    "args.ecl_filename = '2D_JY_Eclrun'\n",
    "args.frs_filename = '2D_JY_Frsrun'\n",
    "args.perm_filename = '2D_PERMX'\n",
    "args.position_filename = '2D_POSITION'\n",
    "args.constraint_filename = '2D_CONSTRAINT'\n",
    "\n",
    "args.independent_area = 40  # acre\n",
    "args.num_of_x = 60\n",
    "args.num_of_y = 60\n",
    "args.num_of_z = 1\n",
    "args.num_of_max_well = 14\n",
    "args.num_of_rigs = 3\n",
    "args.num_of_particles = 3\n",
    "args.length_of_x = 120\n",
    "args.length_of_y = 120\n",
    "args.length_of_z = 120\n",
    "args.num_of_ensemble = 10\n",
    "\n",
    "args.discount_rate = 0.1\n",
    "args.observed_term = 30\n",
    "args.discount_term = 365\n",
    "args.oil_price = 60\n",
    "args.injection_cost = -5\n",
    "args.disposal_cost = -3\n",
    "args.drilling_cost = 0\n",
    "\n",
    "args.production_time = 7200\n",
    "args.tstep = 30\n",
    "args.dstep = 90  # drilling span\n",
    "args.streamline_time = 30\n",
    "args.max_tof = 10000\n",
    "args.max_pressure = 3500\n",
    "\n",
    "args.num_of_train_sample = 500\n",
    "args.train_ratio = 0.7\n",
    "args.validate_ratio = 0.15\n",
    "args.train_model_saved_dir_super = './model'\n",
    "args.train_model_saved_dir = './model/1'\n",
    "args.span_of_retrain = 20\n",
    "\n",
    "args.ratio_of_infeasible = 0.3\n",
    "args.well_type = {'P': 1, 'No': 0, 'I': -1}\n",
    "args.type_fix = False\n",
    "args.drilling_time_fix = True\n",
    "args.location_fix = True\n",
    "args.control_fix = True\n",
    "\n",
    "args.well_placement_optimization = True\n",
    "args.well_operation_optimization = True\n",
    "args.simultaneous_optimization = False\n",
    "args.well_location_index = None\n",
    "args.well_type_real = None\n",
    "args.well_placement_wset = [1500, 1500, 5500, 5500]\n",
    "args.well_operation_wset = [1500, 2500, 4500, 6000]\n",
    "\n",
    "args.perm_mat = './data/PERMX.mat'\n",
    "\n",
    "args.parallel = True\n",
    "\n",
    "args.cached_dir = './cached'\n",
    "args.well_placement_sample_file = 'sample_wp(5).pkl'\n",
    "args.well_operation_sample_file = 'sample_wo(5).pkl'\n",
    "args.num_of_epochs = 20\n",
    "args.batch_size = 150\n",
    "\n",
    "args.optimization_algorithm = 'PSO'\n",
    "args.num_of_generations = 200\n",
    "\n",
    "args.gen_of_retrain = range(args.span_of_retrain, args.num_of_generations + 1, args.span_of_retrain)\n",
    "\n",
    "assert args.validate_ratio != 0, 'validate_ratio should be greater than 0'\n",
    "assert (1 - args.train_ratio - args.validate_ratio) > 0, '(train_ratio + validate_ratio) should not be 1'\n",
    "if args.well_operation_optimization and not args.well_placement_optimization:\n",
    "    # if you only want to optimize well operation conditions, provide well position settings by yourself\n",
    "    assert args.well_placement_optimization, 'if you only want to optimize well operation conditions, provide ' \\\n",
    "                                             'well position settings by yourself. You must set the default well ' \\\n",
    "                                             'locations for a defined number of wells. ' \\\n",
    "                                             '- well_location_index, well_type_real'"
   ],
   "metadata": {
    "collapsed": false
   },
   "execution_count": 16,
   "outputs": []
  },
  {
   "cell_type": "code",
   "execution_count": 17,
   "outputs": [],
   "source": [
    "if not os.path.exists(args.train_model_saved_dir):\n",
    "    print('model_saved_dir not exists')\n",
    "    os.mkdir(args.train_model_saved_dir_super)\n",
    "    os.mkdir(args.train_model_saved_dir)\n",
    "\n",
    "perm = load_matfile(args.perm_mat, 'original')\n",
    "perm_idx = load_matfile(args.perm_mat, 'selected')"
   ],
   "metadata": {
    "collapsed": false
   }
  },
  {
   "cell_type": "markdown",
   "source": [
    "### 1. Well placement\n"
   ],
   "metadata": {
    "collapsed": false
   }
  },
  {
   "cell_type": "markdown",
   "source": [
    "#### 1.1. Proxy modeling\n"
   ],
   "metadata": {
    "collapsed": false
   }
  },
  {
   "cell_type": "markdown",
   "source": [
    "##### make samples to train a proxy model"
   ],
   "metadata": {
    "collapsed": false
   }
  },
  {
   "cell_type": "code",
   "execution_count": 18,
   "outputs": [],
   "source": [
    "args.independent_area = 40\n",
    "args.num_of_train_sample = 10\n",
    "args.well_placement_wset = [1500, 1500, 5500, 5500]\n",
    "args.well_type = {'P': 1, 'No': 0, 'I': -1}\n",
    "args.ratio_of_infeasible = 0.3"
   ],
   "metadata": {
    "collapsed": false,
    "pycharm": {
     "name": "#%% arguments\n"
    }
   }
  },
  {
   "cell_type": "code",
   "execution_count": null,
   "outputs": [
    {
     "name": "stdout",
     "output_type": "stream",
     "text": [
      "ensemble #1\n"
     ]
    },
    {
     "data": {
      "text/plain": "Please wait..:   0%|          | 0/10 [00:00<?, ?it/s]",
      "application/vnd.jupyter.widget-view+json": {
       "version_major": 2,
       "version_minor": 0,
       "model_id": "38a74cbc83c64375912bf46aa9108b46"
      }
     },
     "metadata": {},
     "output_type": "display_data"
    },
    {
     "data": {
      "text/plain": "now simulate:   0%|          | 0/10 [00:00<?, ?it/s]",
      "application/vnd.jupyter.widget-view+json": {
       "version_major": 2,
       "version_minor": 0,
       "model_id": "cb0baa6bc5c244ecb342346d4b3b9ad8"
      }
     },
     "metadata": {},
     "output_type": "display_data"
    },
    {
     "name": "stdout",
     "output_type": "stream",
     "text": [
      "ensemble #2\n"
     ]
    },
    {
     "data": {
      "text/plain": "Please wait..:   0%|          | 0/10 [00:00<?, ?it/s]",
      "application/vnd.jupyter.widget-view+json": {
       "version_major": 2,
       "version_minor": 0,
       "model_id": "f716f82029e84f58b6a122a0d87cc274"
      }
     },
     "metadata": {},
     "output_type": "display_data"
    },
    {
     "data": {
      "text/plain": "now simulate:   0%|          | 0/10 [00:00<?, ?it/s]",
      "application/vnd.jupyter.widget-view+json": {
       "version_major": 2,
       "version_minor": 0,
       "model_id": "461616ae80ae4538be750cb0d433c6f9"
      }
     },
     "metadata": {},
     "output_type": "display_data"
    }
   ],
   "source": [
    "PlacementSample = DataSampling(args, wset=args.well_placement_wset, well_type=args.well_type,\n",
    "                                       location_fix=False, type_fix=False, drilling_time_fix=True,\n",
    "                                       control_fix=True, num_of_ensemble=args.num_of_ensemble,\n",
    "                                       num_of_wells=args.num_of_max_well)\n",
    "\n",
    "if os.path.exists(os.path.join(args.cached_dir, args.well_placement_sample_file)):\n",
    "    with open(os.path.join(args.cached_dir, args.well_placement_sample_file), 'rb') as f:\n",
    "        samples_p = pickle.load(f)\n",
    "else:\n",
    "    samples_p = []\n",
    "    for idx in range(args.num_of_ensemble):\n",
    "        print(f'ensemble #{idx + 1}')\n",
    "        initial_p = PlacementSample.make_candidate_solutions(num_of_candidates=args.num_of_train_sample)\n",
    "        samples_p += PlacementSample.make_train_data(initial_p, [perm[perm_idx[idx][0] - 1]])\n",
    "    with open(os.path.join(args.cached_dir, args.well_placement_sample_file), 'wb') as f:\n",
    "        pickle.dump(samples_p, f)\n"
   ],
   "metadata": {
    "collapsed": false,
    "pycharm": {
     "is_executing": true
    }
   }
  },
  {
   "cell_type": "markdown",
   "source": [
    "##### NPV histogram"
   ],
   "metadata": {
    "collapsed": false
   }
  },
  {
   "cell_type": "code",
   "execution_count": null,
   "outputs": [],
   "source": [
    "from matplotlib import pyplot\n",
    "pyplot.hist([s.fit for s in samples_p])"
   ],
   "metadata": {
    "collapsed": false,
    "pycharm": {
     "is_executing": true
    }
   }
  },
  {
   "cell_type": "markdown",
   "source": [
    "##### train a proxy model"
   ],
   "metadata": {
    "collapsed": false
   }
  },
  {
   "cell_type": "code",
   "execution_count": null,
   "outputs": [],
   "source": [
    "args.train_ratio = 0.7\n",
    "args.validate_ratio = 0.15\n",
    "args.train_model_saved_dir = './model/1'\n",
    "\n",
    "args.num_of_epochs = 20\n",
    "args.batch_size = 150\n",
    "model_name = 'ResNet'"
   ],
   "metadata": {
    "collapsed": false,
    "pycharm": {
     "name": "#%% arguments\n",
     "is_executing": true
    }
   }
  },
  {
   "cell_type": "code",
   "execution_count": null,
   "outputs": [],
   "source": [
    "Model_p = ProxyModel(args, samples_p, model_name=model_name)\n",
    "if os.path.exists(f'{Model_p.saved_dir}/saved_model.pth'):\n",
    "    Model_p.model.load_state_dict(torch.load(f'{Model_p.saved_dir}/saved_model.pth'))\n",
    "else:\n",
    "    Model_p.model = Model_p.train_model(samples_p, train_ratio=args.train_ratio,\n",
    "                                        validate_ratio=args.validate_ratio,\n",
    "                                        saved_dir=Model_p.saved_dir)"
   ],
   "metadata": {
    "collapsed": false,
    "pycharm": {
     "is_executing": true
    }
   }
  },
  {
   "cell_type": "markdown",
   "source": [
    "##### plot \"real-prediction\""
   ],
   "metadata": {
    "collapsed": false
   }
  },
  {
   "cell_type": "code",
   "execution_count": null,
   "outputs": [],
   "source": [
    "from matplotlib import pyplot\n",
    "real = Model_p.reals\n",
    "prediction = Model_p.predictions\n",
    "pyplot.scatter(real, prediction)\n"
   ],
   "metadata": {
    "collapsed": false,
    "pycharm": {
     "is_executing": true
    }
   }
  },
  {
   "cell_type": "markdown",
   "source": [
    "#### 1.2. Optimization\n"
   ],
   "metadata": {
    "collapsed": false
   }
  },
  {
   "cell_type": "code",
   "execution_count": null,
   "outputs": [],
   "source": [
    "args.optimization_algorithm = 'PSO'\n",
    "args.num_of_generations = 10"
   ],
   "metadata": {
    "collapsed": false,
    "pycharm": {
     "name": "#%% arguments\n",
     "is_executing": true
    }
   }
  },
  {
   "cell_type": "code",
   "execution_count": null,
   "outputs": [],
   "source": [
    "placement_positions = PlacementSample.make_candidate_solutions(num_of_candidates=args.num_of_particles)\n",
    "\n",
    "WPO = GlobalOpt(args, placement_positions, [PlacementSample.perm[idx[0]-1] for idx in PlacementSample.perm_idx],\n",
    "                alg_name='PSO', nn_model=Model_p, sample=samples_p)\n",
    "WPO.iterate(args.num_of_generations)\n",
    "best_wp = WPO.get_solution(location=True, type=True)"
   ],
   "metadata": {
    "collapsed": false,
    "pycharm": {
     "is_executing": true
    }
   }
  },
  {
   "cell_type": "markdown",
   "source": [
    "### 2. Well operation\n"
   ],
   "metadata": {
    "collapsed": false
   }
  },
  {
   "cell_type": "markdown",
   "source": [
    "#### 2.1. Proxy modeling"
   ],
   "metadata": {
    "collapsed": false
   }
  },
  {
   "cell_type": "markdown",
   "source": [
    "##### make samples to train a proxy model\n"
   ],
   "metadata": {
    "collapsed": false
   }
  },
  {
   "cell_type": "code",
   "execution_count": 10,
   "outputs": [
    {
     "ename": "NameError",
     "evalue": "name 'best_wp' is not defined",
     "output_type": "error",
     "traceback": [
      "\u001B[1;31m---------------------------------------------------------------------------\u001B[0m",
      "\u001B[1;31mNameError\u001B[0m                                 Traceback (most recent call last)",
      "Input \u001B[1;32mIn [10]\u001B[0m, in \u001B[0;36m<cell line: 1>\u001B[1;34m()\u001B[0m\n\u001B[0;32m      1\u001B[0m OperationSample \u001B[38;5;241m=\u001B[39m DataSampling(args, wset\u001B[38;5;241m=\u001B[39margs\u001B[38;5;241m.\u001B[39mwell_operation_wset, well_type\u001B[38;5;241m=\u001B[39margs\u001B[38;5;241m.\u001B[39mwell_type,\n\u001B[0;32m      2\u001B[0m                                        type_fix\u001B[38;5;241m=\u001B[39m\u001B[38;5;28;01mTrue\u001B[39;00m, location_fix\u001B[38;5;241m=\u001B[39m\u001B[38;5;28;01mTrue\u001B[39;00m, drilling_time_fix\u001B[38;5;241m=\u001B[39m\u001B[38;5;28;01mFalse\u001B[39;00m,\n\u001B[0;32m      3\u001B[0m                                        control_fix\u001B[38;5;241m=\u001B[39m\u001B[38;5;28;01mFalse\u001B[39;00m, num_of_ensemble\u001B[38;5;241m=\u001B[39margs\u001B[38;5;241m.\u001B[39mnum_of_ensemble,\n\u001B[1;32m----> 4\u001B[0m                                        num_of_wells\u001B[38;5;241m=\u001B[39m\u001B[38;5;28mlen\u001B[39m(\u001B[43mbest_wp\u001B[49m[\u001B[38;5;124m'\u001B[39m\u001B[38;5;124mlocation\u001B[39m\u001B[38;5;124m'\u001B[39m]), violation_check\u001B[38;5;241m=\u001B[39m\u001B[38;5;28;01mFalse\u001B[39;00m)\n\u001B[0;32m      6\u001B[0m \u001B[38;5;28;01mif\u001B[39;00m os\u001B[38;5;241m.\u001B[39mpath\u001B[38;5;241m.\u001B[39mexists(os\u001B[38;5;241m.\u001B[39mpath\u001B[38;5;241m.\u001B[39mjoin(args\u001B[38;5;241m.\u001B[39mcached_dir, args\u001B[38;5;241m.\u001B[39mwell_operation_sample_file)):\n\u001B[0;32m      7\u001B[0m     \u001B[38;5;28;01mwith\u001B[39;00m \u001B[38;5;28mopen\u001B[39m(args\u001B[38;5;241m.\u001B[39mcached_file, \u001B[38;5;124m'\u001B[39m\u001B[38;5;124mrb\u001B[39m\u001B[38;5;124m'\u001B[39m) \u001B[38;5;28;01mas\u001B[39;00m f:\n",
      "\u001B[1;31mNameError\u001B[0m: name 'best_wp' is not defined"
     ]
    }
   ],
   "source": [
    "OperationSample = DataSampling(args, wset=args.well_operation_wset, well_type=args.well_type,\n",
    "                                       type_fix=True, location_fix=True, drilling_time_fix=False,\n",
    "                                       control_fix=False, num_of_ensemble=args.num_of_ensemble,\n",
    "                                       num_of_wells=len(best_wp['location']), violation_check=False)\n",
    "\n",
    "if os.path.exists(os.path.join(args.cached_dir, args.well_operation_sample_file)):\n",
    "    with open(args.cached_file, 'rb') as f:\n",
    "        samples_o = pickle.load(f)\n",
    "else:\n",
    "    args.drilling_cost = 2E+06\n",
    "    initial_o = OperationSample.make_candidate_solutions(num_of_candidates=args.num_of_train_sample,\n",
    "                                                         location=best_wp['location'],\n",
    "                                                         type_real=best_wp['type'])\n",
    "    samples_o = OperationSample.make_train_data(initial_o, [perm[idx[0] - 1] for idx in perm_idx],\n",
    "                                                use_frontsim=False)\n",
    "    with open(os.path.join(args.cached_dir, args.well_operation_sample_file), 'wb') as f:\n",
    "        pickle.dump(samples_o, f)"
   ],
   "metadata": {
    "collapsed": false
   }
  },
  {
   "cell_type": "markdown",
   "source": [
    "##### NPV histogram"
   ],
   "metadata": {
    "collapsed": false
   }
  },
  {
   "cell_type": "code",
   "execution_count": null,
   "outputs": [],
   "source": [
    "from matplotlib import pyplot\n",
    "pyplot.hist([s.fit for s in samples_o])"
   ],
   "metadata": {
    "collapsed": false
   }
  },
  {
   "cell_type": "markdown",
   "source": [
    "##### train a proxy model"
   ],
   "metadata": {
    "collapsed": false
   }
  },
  {
   "cell_type": "code",
   "execution_count": null,
   "outputs": [],
   "source": [
    "Model_o = ProxyModel(args, samples_o, model_name='LSTM')\n",
    "if os.path.exists(f'{Model_o.saved_dir}/saved_model.pth'):\n",
    "    Model_o.model.load_state_dict(torch.load(f'{Model_o.saved_dir}/saved_model.pth'))\n",
    "else:\n",
    "    Model_o.model = Model_o.train_model(samples_o, train_ratio=args.train_ratio,\n",
    "                                        validate_ratio=args.validate_ratio,\n",
    "                                        saved_dir=Model_o.saved_dir)"
   ],
   "metadata": {
    "collapsed": false
   }
  },
  {
   "cell_type": "markdown",
   "source": [
    "##### plot \"real-prediction\""
   ],
   "metadata": {
    "collapsed": false
   }
  },
  {
   "cell_type": "code",
   "execution_count": null,
   "outputs": [],
   "source": [
    "from matplotlib import pyplot\n",
    "real = Model_o.reals\n",
    "prediction = Model_o.predictions\n",
    "pyplot.scatter(real, prediction)"
   ],
   "metadata": {
    "collapsed": false
   }
  },
  {
   "cell_type": "markdown",
   "source": [
    "#### 2.2. Optimization"
   ],
   "metadata": {
    "collapsed": false
   }
  },
  {
   "cell_type": "code",
   "execution_count": null,
   "outputs": [],
   "source": [
    "operation_positions = OperationSample.make_candidate_solutions(num_of_candidates=args.num_of_particles)\n",
    "\n",
    "WOO = GlobalOpt(args, operation_positions, OperationSample.perm[:, OperationSample.perm_idx - 1],\n",
    "                alg_name='PSO', nn_model=Model_o, sample=samples_p)\n",
    "WOO.iterate(args.num_of_generations)\n",
    "best_wo = WOO.get_solution(drilling_time=True, control=True)"
   ],
   "metadata": {
    "collapsed": false
   }
  }
 ],
 "metadata": {
  "kernelspec": {
   "display_name": "Python 3",
   "language": "python",
   "name": "python3"
  },
  "language_info": {
   "codemirror_mode": {
    "name": "ipython",
    "version": 2
   },
   "file_extension": ".py",
   "mimetype": "text/x-python",
   "name": "python",
   "nbconvert_exporter": "python",
   "pygments_lexer": "ipython2",
   "version": "2.7.6"
  }
 },
 "nbformat": 4,
 "nbformat_minor": 0
}
